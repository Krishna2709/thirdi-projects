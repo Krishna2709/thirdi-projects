{
 "cells": [
  {
   "cell_type": "code",
   "execution_count": 43,
   "metadata": {},
   "outputs": [],
   "source": [
    "import logging\n",
    "import pandas as pd\n",
    "import time\n",
    "\n",
    "from bs4 import BeautifulSoup\n",
    "\n",
    "from selenium import webdriver\n",
    "from selenium.webdriver.edge.options import Options\n",
    "from selenium.webdriver.common.by import By\n",
    "from selenium.webdriver.common.keys import Keys\n",
    "\n",
    "logging.basicConfig(level=logging.INFO)"
   ]
  },
  {
   "cell_type": "code",
   "execution_count": 36,
   "metadata": {},
   "outputs": [],
   "source": [
    "edge_options = Options()\n",
    "user_agent = \"Edge/122.0.2365.92\"\n",
    "edge_options.add_argument(f'user-agent={user_agent}')\n",
    "driver = webdriver.Edge(options=edge_options)\n",
    "driver.get(\"https://www.zillow.com/homes/fsbo/?searchQueryState=%7B%22isMapVisible%22%3Atrue%2C%22mapBounds%22%3A%7B%22north%22%3A42.78759937330219%2C%22south%22%3A41.82788354480652%2C%22east%22%3A-70.5237973397179%2C%22west%22%3A-72.13054782799915%7D%2C%22filterState%22%3A%7B%22sort%22%3A%7B%22value%22%3A%22globalrelevanceex%22%7D%2C%22fsba%22%3A%7B%22value%22%3Afalse%7D%2C%22cmsn%22%3A%7B%22value%22%3Afalse%7D%2C%22ah%22%3A%7B%22value%22%3Atrue%7D%2C%22auc%22%3A%7B%22value%22%3Afalse%7D%2C%22fore%22%3A%7B%22value%22%3Afalse%7D%2C%22schu%22%3A%7B%22value%22%3Afalse%7D%2C%22sche%22%3A%7B%22value%22%3Afalse%7D%2C%22schm%22%3A%7B%22value%22%3Afalse%7D%2C%22schh%22%3A%7B%22value%22%3Afalse%7D%2C%22schp%22%3A%7B%22value%22%3Afalse%7D%2C%22schr%22%3A%7B%22value%22%3Afalse%7D%2C%22schc%22%3A%7B%22value%22%3Afalse%7D%2C%22nc%22%3A%7B%22value%22%3Afalse%7D%7D%2C%22isListVisible%22%3Atrue%2C%22category%22%3A%22cat2%22%2C%22customRegionId%22%3A%22b522066044X1-CR1rt49s8urjnaj_15plh3%22%2C%22pagination%22%3A%7B%7D%7D\")\n",
    "time.sleep(3)\n",
    "\n",
    "for _ in range(10):\n",
    "    driver.find_element(By.TAG_NAME, 'body').send_keys(Keys.PAGE_DOWN)\n",
    "    time.sleep(1)\n",
    "    \n",
    "html_content = driver.page_source\n",
    "driver.quit()\n",
    "\n",
    "soup = BeautifulSoup(html_content, 'html.parser')\n",
    "\n",
    "# List of tags to remove\n",
    "unwanted_tags = ['script', 'style', 'button', 'input', 'img', 'video', 'head', 'svg']\n",
    "\n",
    "for tag in unwanted_tags:\n",
    "    for unwanted_tag in soup.find_all(tag):\n",
    "        unwanted_tag.decompose()  # Remove the tag from the soup\n"
   ]
  },
  {
   "cell_type": "code",
   "execution_count": null,
   "metadata": {},
   "outputs": [],
   "source": [
    "# Find all 'li' tags within the 'ul' tag\n",
    "listings = soup.find('ul', class_='StyledSearchListWrapper-srp-8-100-4__sc-1ieen0c-0').find_all('li', recursive=False)\n",
    "\n",
    "# Initialize a list to hold all the extracted information\n",
    "extracted_info = []\n",
    "\n",
    "for listing in listings:\n",
    "    # For each 'li', find the 'article' tag with 'data-test' attribute 'property-card'\n",
    "    article = listing.find('article', {'data-test': 'property-card'})\n",
    "    \n",
    "    # Proceed if the article tag exists\n",
    "    if article:\n",
    "        # Extract the desired information\n",
    "        price = article.find('span', {'data-test': 'property-card-price'}).get_text(strip=True) if article.find('span', {'data-test': 'property-card-price'}) else 'No Price'\n",
    "        address = article.find('address', {'data-test': 'property-card-addr'}).get_text(strip=True) if article.find('address', {'data-test': 'property-card-addr'}) else 'No Address'\n",
    "        details_list = article.find('ul', class_='StyledPropertyCardHomeDetailsList-c11n-8-100-4__sc-1j0som5-0')\n",
    "        \n",
    "        # Extract beds, baths, and sqft separately\n",
    "        beds = baths = sqft = 'N/A'  # Default values\n",
    "        if details_list:\n",
    "            details = details_list.find_all('li')\n",
    "            if len(details) > 0:\n",
    "                beds = details[0].get_text(strip=True)\n",
    "            if len(details) > 1:\n",
    "                baths = details[1].get_text(strip=True)\n",
    "            if len(details) > 2:\n",
    "                sqft = details[2].get_text(strip=True)\n",
    "        \n",
    "        extracted_info.append({\n",
    "            'price': price, \n",
    "            'address': address, \n",
    "            'beds': beds,\n",
    "            'baths': baths,\n",
    "            'sqft': sqft\n",
    "        })\n",
    "\n",
    "    else:\n",
    "        logging.info('Article tag not found')\n",
    "        print('Rerun the driver')"
   ]
  },
  {
   "cell_type": "code",
   "execution_count": 46,
   "metadata": {},
   "outputs": [
    {
     "name": "stdout",
     "output_type": "stream",
     "text": [
      "Saved extracted information to zillow_listings.csv\n",
      "Saved extracted information to zillow_listings.xlsx\n"
     ]
    }
   ],
   "source": [
    "# Convert the extracted information to a pandas DataFrame\n",
    "df = pd.DataFrame(extracted_info)\n",
    "\n",
    "# Save the DataFrame to a CSV file\n",
    "csv_file_path = 'zillow_listings.csv'\n",
    "df.to_csv(csv_file_path, index=False)\n",
    "print(f'Saved extracted information to {csv_file_path}')\n",
    "\n",
    "# Alternatively, to save it as an Excel file, you can do:\n",
    "excel_file_path = 'zillow_listings.xlsx'\n",
    "df.to_excel(excel_file_path, index=False)\n",
    "print(f'Saved extracted information to {excel_file_path}')"
   ]
  },
  {
   "cell_type": "code",
   "execution_count": null,
   "metadata": {},
   "outputs": [],
   "source": []
  }
 ],
 "metadata": {
  "kernelspec": {
   "display_name": "Python 3",
   "language": "python",
   "name": "python3"
  },
  "language_info": {
   "codemirror_mode": {
    "name": "ipython",
    "version": 3
   },
   "file_extension": ".py",
   "mimetype": "text/x-python",
   "name": "python",
   "nbconvert_exporter": "python",
   "pygments_lexer": "ipython3",
   "version": "3.11.8"
  }
 },
 "nbformat": 4,
 "nbformat_minor": 2
}
